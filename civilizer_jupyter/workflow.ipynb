{
 "cells": [
  {
   "cell_type": "markdown",
   "metadata": {},
   "source": [
    "# Creating a new project"
   ]
  },
  {
   "cell_type": "code",
   "execution_count": 1,
   "metadata": {},
   "outputs": [],
   "source": [
    "from projects import *\n",
    "Proj = Project()\n",
    "Proj.newProject('XYZ')"
   ]
  },
  {
   "cell_type": "markdown",
   "metadata": {},
   "source": [
    "### Add nodes to the project "
   ]
  },
  {
   "cell_type": "code",
   "execution_count": 2,
   "metadata": {
    "collapsed": true
   },
   "outputs": [],
   "source": [
    "Proj.addNode('Aurum1', 'Aurum')\n",
    "Proj.addNode('GR1', 'GoldenRecord')\n",
    "Proj.addNode('Transform1', 'DBXFormer')\n",
    "Proj.addNode('Transform2', 'GoldenRecord')"
   ]
  },
  {
   "cell_type": "markdown",
   "metadata": {},
   "source": [
    "#### Now, we can display the added nodes"
   ]
  },
  {
   "cell_type": "code",
   "execution_count": 3,
   "metadata": {},
   "outputs": [
    {
     "name": "stdout",
     "output_type": "stream",
     "text": [
      "digraph G {\n",
      "type=digraph;\n",
      "Aurum1 [label=Aurum];\n",
      "GR1 [label=GoldenRecord];\n",
      "Transform1 [label=DBXFormer];\n",
      "Transform2 [label=GoldenRecord];\n",
      "}\n",
      "\n"
     ]
    }
   ],
   "source": [
    "Proj.printProject()\n",
    "#viewPydot(Proj.wg)"
   ]
  },
  {
   "cell_type": "markdown",
   "metadata": {},
   "source": [
    "### Add edges between the nodes "
   ]
  },
  {
   "cell_type": "code",
   "execution_count": 4,
   "metadata": {},
   "outputs": [],
   "source": [
    "Proj.addEdge('Aurum1', 'GR1')\n",
    "Proj.addEdge('Aurum1', 'Transform2')\n",
    "Proj.addEdge('Transform1', 'Transform2')"
   ]
  },
  {
   "cell_type": "markdown",
   "metadata": {},
   "source": [
    "#### Display the work plan with the nodes and the edges"
   ]
  },
  {
   "cell_type": "code",
   "execution_count": 5,
   "metadata": {},
   "outputs": [
    {
     "name": "stdout",
     "output_type": "stream",
     "text": [
      "digraph G {\n",
      "type=digraph;\n",
      "Aurum1 [label=Aurum];\n",
      "GR1 [label=GoldenRecord];\n",
      "Transform1 [label=DBXFormer];\n",
      "Transform2 [label=GoldenRecord];\n",
      "Aurum1 -> GR1;\n",
      "Aurum1 -> Transform2;\n",
      "Transform1 -> Transform2;\n",
      "}\n",
      "\n"
     ]
    }
   ],
   "source": [
    "Proj.printProject()\n",
    "#viewPydot(Proj.wg)"
   ]
  },
  {
   "cell_type": "markdown",
   "metadata": {},
   "source": [
    "#### Display the information stored about each node"
   ]
  },
  {
   "cell_type": "code",
   "execution_count": 6,
   "metadata": {},
   "outputs": [
    {
     "name": "stdout",
     "output_type": "stream",
     "text": [
      "Node class: Aurum\n",
      "input file: /Users/qahtanaa/Documents/WorkFlow/dcworkflow/CivilizerWorkspace/XYZ_Aurum1.input\n",
      "output file: /Users/qahtanaa/Documents/WorkFlow/dcworkflow/CivilizerWorkspace/XYZ_Aurum1.output\n",
      "tracking file: /Users/qahtanaa/Documents/WorkFlow/dcworkflow/CivilizerWorkspace/XYZ_Aurum1.tracker\n",
      "input sources: \n",
      "==================================\n",
      "Node class: GoldenRecord\n",
      "input file: /Users/qahtanaa/Documents/WorkFlow/dcworkflow/CivilizerWorkspace/XYZ_GR1.input\n",
      "output file: /Users/qahtanaa/Documents/WorkFlow/dcworkflow/CivilizerWorkspace/XYZ_GR1.output\n",
      "tracking file: /Users/qahtanaa/Documents/WorkFlow/dcworkflow/CivilizerWorkspace/XYZ_GR1.tracker\n",
      "input sources: /Users/qahtanaa/Documents/WorkFlow/dcworkflow/CivilizerWorkspace/XYZ_Aurum1.output;\n",
      "==================================\n",
      "Node class: DBXFormer\n",
      "input file: /Users/qahtanaa/Documents/WorkFlow/dcworkflow/CivilizerWorkspace/XYZ_Transform1.input\n",
      "output file: /Users/qahtanaa/Documents/WorkFlow/dcworkflow/CivilizerWorkspace/XYZ_Transform1.output\n",
      "tracking file: /Users/qahtanaa/Documents/WorkFlow/dcworkflow/CivilizerWorkspace/XYZ_Transform1.tracker\n",
      "input sources: \n",
      "==================================\n",
      "Node class: GoldenRecord\n",
      "input file: /Users/qahtanaa/Documents/WorkFlow/dcworkflow/CivilizerWorkspace/XYZ_Transform2.input\n",
      "output file: /Users/qahtanaa/Documents/WorkFlow/dcworkflow/CivilizerWorkspace/XYZ_Transform2.output\n",
      "tracking file: /Users/qahtanaa/Documents/WorkFlow/dcworkflow/CivilizerWorkspace/XYZ_Transform2.tracker\n",
      "input sources: /Users/qahtanaa/Documents/WorkFlow/dcworkflow/CivilizerWorkspace/XYZ_Aurum1.output;/Users/qahtanaa/Documents/WorkFlow/dcworkflow/CivilizerWorkspace/XYZ_Transform1.output;\n",
      "==================================\n"
     ]
    }
   ],
   "source": [
    "for e in Proj.wg.get_nodes():\n",
    "    Proj.nodes_details[e.get_name()].printNode()"
   ]
  },
  {
   "cell_type": "markdown",
   "metadata": {},
   "source": [
    "#### Save the project"
   ]
  },
  {
   "cell_type": "code",
   "execution_count": 7,
   "metadata": {},
   "outputs": [
    {
     "name": "stdout",
     "output_type": "stream",
     "text": [
      "save the current project to: CivilizerWorkspace/XYZ/XYZ.dot\n",
      "\n"
     ]
    }
   ],
   "source": [
    "Proj.saveProject()"
   ]
  },
  {
   "cell_type": "markdown",
   "metadata": {},
   "source": [
    "#### We can delete nodes"
   ]
  },
  {
   "cell_type": "code",
   "execution_count": 8,
   "metadata": {},
   "outputs": [
    {
     "name": "stdout",
     "output_type": "stream",
     "text": [
      "Node ( Aurum1 ) was deleted successfully .. \n",
      "digraph G {\n",
      "type=digraph;\n",
      "GR1 [label=GoldenRecord];\n",
      "Transform1 [label=DBXFormer];\n",
      "Transform2 [label=GoldenRecord];\n",
      "Transform1 -> Transform2;\n",
      "}\n",
      "\n"
     ]
    }
   ],
   "source": [
    "Proj.deleteNode('Aurum1')\n",
    "Proj.printProject()\n",
    "#viewPydot(Proj.wg)"
   ]
  },
  {
   "cell_type": "markdown",
   "metadata": {},
   "source": [
    "#### Close the project"
   ]
  },
  {
   "cell_type": "code",
   "execution_count": 9,
   "metadata": {},
   "outputs": [
    {
     "name": "stdout",
     "output_type": "stream",
     "text": [
      "close the current project\n"
     ]
    }
   ],
   "source": [
    "Proj.closeProject()"
   ]
  },
  {
   "cell_type": "markdown",
   "metadata": {},
   "source": [
    "##### Check if the project was closed successfully "
   ]
  },
  {
   "cell_type": "code",
   "execution_count": 10,
   "metadata": {},
   "outputs": [
    {
     "name": "stdout",
     "output_type": "stream",
     "text": [
      "Error: either the project is empty or it has been closed ...\n"
     ]
    }
   ],
   "source": [
    "Proj.printProject()"
   ]
  },
  {
   "cell_type": "markdown",
   "metadata": {},
   "source": [
    "#### Load existing project"
   ]
  },
  {
   "cell_type": "code",
   "execution_count": 11,
   "metadata": {},
   "outputs": [
    {
     "name": "stdout",
     "output_type": "stream",
     "text": [
      "load an existing project from: CivilizerWorkspace/XYZ/XYZ.dot\n",
      "\n",
      "digraph G {\n",
      "type=digraph;\n",
      "GR1 [label=GoldenRecord];\n",
      "Transform1 [label=DBXFormer];\n",
      "Transform2 [label=GoldenRecord];\n",
      "Transform1 -> Transform2;\n",
      "}\n",
      "\n"
     ]
    }
   ],
   "source": [
    "# We can laod the workflow graph from a file\n",
    "Proj.loadProject('XYZ')\n",
    "Proj.printProject()\n",
    "#viewPydot(Proj.wg)"
   ]
  },
  {
   "cell_type": "code",
   "execution_count": 12,
   "metadata": {},
   "outputs": [
    {
     "name": "stdout",
     "output_type": "stream",
     "text": [
      "Node class: GoldenRecord\n",
      "input file: /Users/qahtanaa/Documents/WorkFlow/dcworkflow/CivilizerWorkspace/XYZ_GR1.input\n",
      "output file: /Users/qahtanaa/Documents/WorkFlow/dcworkflow/CivilizerWorkspace/XYZ_GR1.output\n",
      "tracking file: /Users/qahtanaa/Documents/WorkFlow/dcworkflow/CivilizerWorkspace/XYZ_GR1.tracker\n",
      "input sources: \n",
      "==================================\n",
      "Node class: DBXFormer\n",
      "input file: /Users/qahtanaa/Documents/WorkFlow/dcworkflow/CivilizerWorkspace/XYZ_Transform1.input\n",
      "output file: /Users/qahtanaa/Documents/WorkFlow/dcworkflow/CivilizerWorkspace/XYZ_Transform1.output\n",
      "tracking file: /Users/qahtanaa/Documents/WorkFlow/dcworkflow/CivilizerWorkspace/XYZ_Transform1.tracker\n",
      "input sources: \n",
      "==================================\n",
      "Node class: GoldenRecord\n",
      "input file: /Users/qahtanaa/Documents/WorkFlow/dcworkflow/CivilizerWorkspace/XYZ_Transform2.input\n",
      "output file: /Users/qahtanaa/Documents/WorkFlow/dcworkflow/CivilizerWorkspace/XYZ_Transform2.output\n",
      "tracking file: /Users/qahtanaa/Documents/WorkFlow/dcworkflow/CivilizerWorkspace/XYZ_Transform2.tracker\n",
      "input sources: /Users/qahtanaa/Documents/WorkFlow/dcworkflow/CivilizerWorkspace/XYZ_Transform1.output;\n",
      "==================================\n"
     ]
    }
   ],
   "source": [
    "for e in Proj.wg.get_nodes():\n",
    "    Proj.nodes_details[e.get_name()].printNode()"
   ]
  },
  {
   "cell_type": "markdown",
   "metadata": {},
   "source": [
    "##### We can add node at any time point as required"
   ]
  },
  {
   "cell_type": "code",
   "execution_count": 13,
   "metadata": {},
   "outputs": [
    {
     "name": "stdout",
     "output_type": "stream",
     "text": [
      "digraph G {\n",
      "type=digraph;\n",
      "GR1 [label=GoldenRecord];\n",
      "Transform1 [label=DBXFormer];\n",
      "Transform2 [label=GoldenRecord];\n",
      "Transform1 -> Transform2;\n",
      "Aurum1 [label=Aurum];\n",
      "}\n",
      "\n"
     ]
    }
   ],
   "source": [
    "Proj.addNode('Aurum1', 'Aurum')\n",
    "Proj.printProject()\n",
    "#viewPydot(Proj.wg)"
   ]
  },
  {
   "cell_type": "markdown",
   "metadata": {},
   "source": [
    "##### We can also add input file to an existing node"
   ]
  },
  {
   "cell_type": "code",
   "execution_count": 14,
   "metadata": {
    "collapsed": true
   },
   "outputs": [],
   "source": [
    "Proj.addNodeInput('GR1', 'CivilizerWorkspace/General/sources.input')"
   ]
  },
  {
   "cell_type": "markdown",
   "metadata": {},
   "source": [
    "##### Read the data required by the node (access the database or the csv directory and get a dataframe or a list of dataframes)"
   ]
  },
  {
   "cell_type": "code",
   "execution_count": 15,
   "metadata": {},
   "outputs": [
    {
     "name": "stdout",
     "output_type": "stream",
     "text": [
      "Data path not found\n"
     ]
    }
   ],
   "source": [
    "tablesNames, dataFrames = Proj.read_input_data('GR1')"
   ]
  },
  {
   "cell_type": "markdown",
   "metadata": {},
   "source": [
    "##### To execute a node, you can call \"executeNode\" function, which is a place holder for the actual functions that will be developed by the different contributors. Everyone will take care of his component "
   ]
  },
  {
   "cell_type": "code",
   "execution_count": 16,
   "metadata": {},
   "outputs": [
    {
     "name": "stdout",
     "output_type": "stream",
     "text": [
      "Running Aurum for Data Discovery\n"
     ]
    }
   ],
   "source": [
    "Proj.executeNode(\"Aurum1\")"
   ]
  },
  {
   "cell_type": "markdown",
   "metadata": {},
   "source": [
    "##### Finally, we can delete the project "
   ]
  },
  {
   "cell_type": "code",
   "execution_count": 18,
   "metadata": {},
   "outputs": [
    {
     "name": "stdout",
     "output_type": "stream",
     "text": [
      "Project is not available or it has been closed .. \n"
     ]
    }
   ],
   "source": [
    "Proj.deleteProject()"
   ]
  },
  {
   "cell_type": "code",
   "execution_count": null,
   "metadata": {
    "collapsed": true
   },
   "outputs": [],
   "source": []
  }
 ],
 "metadata": {
  "kernelspec": {
   "display_name": "Python 3",
   "language": "python",
   "name": "python3"
  },
  "language_info": {
   "codemirror_mode": {
    "name": "ipython",
    "version": 3
   },
   "file_extension": ".py",
   "mimetype": "text/x-python",
   "name": "python",
   "nbconvert_exporter": "python",
   "pygments_lexer": "ipython3",
   "version": "3.6.1"
  }
 },
 "nbformat": 4,
 "nbformat_minor": 2
}
