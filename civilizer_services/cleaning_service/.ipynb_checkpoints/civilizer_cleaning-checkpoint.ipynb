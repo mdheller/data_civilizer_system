{
 "cells": [
  {
   "cell_type": "markdown",
   "metadata": {},
   "source": [
    "# Importing necessary modules."
   ]
  },
  {
   "cell_type": "code",
   "execution_count": 5,
   "metadata": {},
   "outputs": [],
   "source": [
    "import os\n",
    "import json\n",
    "import pandas\n",
    "import cleaning_api"
   ]
  },
  {
   "cell_type": "markdown",
   "metadata": {},
   "source": [
    "# Please enter the path of input and output JSON files."
   ]
  },
  {
   "cell_type": "code",
   "execution_count": 6,
   "metadata": {},
   "outputs": [
    {
     "name": "stdout",
     "output_type": "stream",
     "text": [
      "Please enter the path of input JSON file: sources.json\n",
      "Please enter the path of output JSON file: destination.json\n"
     ]
    }
   ],
   "source": [
    "input_file_path = raw_input(\"Please enter the path of input JSON file: \")\n",
    "output_file_path = raw_input(\"Please enter the path of output JSON file: \")"
   ]
  },
  {
   "cell_type": "markdown",
   "metadata": {},
   "source": [
    "# Reading the input and output JSON files."
   ]
  },
  {
   "cell_type": "code",
   "execution_count": 7,
   "metadata": {},
   "outputs": [],
   "source": [
    "input_dictionary = json.load(open(input_file_path, \"r\"))\n",
    "input_folder = input_dictionary[\"CSV\"][\"dir\"]\n",
    "if input_dictionary[\"CSV\"][\"table\"]:\n",
    "    input_tables = input_dictionary[\"CSV\"][\"table\"].split(\";\")\n",
    "else:\n",
    "    input_tables = os.listdir(input_folder)\n",
    "output_dictionary = json.load(open(output_file_path, \"r\"))\n",
    "output_folder = output_dictionary[\"CSV\"][\"dir\"]\n",
    "if not os.path.exists(output_folder):\n",
    "    os.mkdir(output_folder)"
   ]
  },
  {
   "cell_type": "markdown",
   "metadata": {},
   "source": [
    "# Iterating over the input dataset tables."
   ]
  },
  {
   "cell_type": "code",
   "execution_count": null,
   "metadata": {},
   "outputs": [
    {
     "name": "stdout",
     "output_type": "stream",
     "text": [
      "Atributes are:\n",
      "['title', 'url', 'model', 'mileage', 'price', 'contact_number', 'vtype', 'brand_name']\n"
     ]
    }
   ],
   "source": [
    "for table in input_tables:\n",
    "    dataset_path = os.path.join(input_folder, table)\n",
    "    table_data = cleaning_api.read_csv_dataset(dataset_path)\n",
    "    print \"Atributes are:\"\n",
    "    print table_data[0]\n",
    "    # df = pandas.DataFrame(data=table_data[1:], columns=table_data[0])\n",
    "    # print df.head()\n",
    "    tool_name = raw_input(\"Please enter the name of data cleaning tool: \")\n",
    "    exec(\"tool_parameters = \" + raw_input(\"Please enter the proper parameter list: \"))\n",
    "    run_input = {\n",
    "        \"dataset\": {\n",
    "            \"type\": \"csv\",\n",
    "            \"param\": [dataset_path]\n",
    "        },\n",
    "        \"tool\": {\n",
    "            \"name\": tool_name,\n",
    "            \"param\": tool_parameters\n",
    "            }\n",
    "    }\n",
    "    results_list = cleaning_api.run_data_cleaning_job(run_input)\n",
    "    result_path = os.path.join(output_folder, table)\n",
    "    cleaning_api.write_csv_dataset(result_path, [[\"row\", \"column\", \"value\"]] + results_list)\n",
    "    print \"The results have been written into the {}\\n--------------------------------------\".format(result_path)"
   ]
  },
  {
   "cell_type": "code",
   "execution_count": null,
   "metadata": {},
   "outputs": [],
   "source": []
  }
 ],
 "metadata": {
  "kernelspec": {
   "display_name": "Python 2",
   "language": "python",
   "name": "python2"
  },
  "language_info": {
   "codemirror_mode": {
    "name": "ipython",
    "version": 2
   },
   "file_extension": ".py",
   "mimetype": "text/x-python",
   "name": "python",
   "nbconvert_exporter": "python",
   "pygments_lexer": "ipython2",
   "version": "2.7.12"
  }
 },
 "nbformat": 4,
 "nbformat_minor": 1
}
