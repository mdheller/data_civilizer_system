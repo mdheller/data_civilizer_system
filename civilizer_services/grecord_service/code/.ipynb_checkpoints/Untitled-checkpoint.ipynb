{
 "cells": [
  {
   "cell_type": "code",
   "execution_count": null,
   "metadata": {},
   "outputs": [],
   "source": [
    "a = 1\n",
    "print(a)"
   ]
  },
  {
   "cell_type": "code",
   "execution_count": null,
   "metadata": {},
   "outputs": [],
   "source": [
    "import goldenrecord\n",
    "\n",
    "filepath = \"../data/mitdwh/\"\n",
    "cname = \"cluster_id\"\n",
    "outfilepath = \"./mitdwh_updated.csv\"\n",
    "\n",
    "consolidation = goldenrecord.Consolidation(filepath, cname)\n",
    "num_of_tables = consolidation.number_of_tables\n",
    "\n",
    "print(num_of_tables)"
   ]
  },
  {
   "cell_type": "markdown",
   "metadata": {},
   "source": [
    "should print something I suppose"
   ]
  },
  {
   "cell_type": "code",
   "execution_count": null,
   "metadata": {},
   "outputs": [],
   "source": [
    "\n",
    "for i in range(num_of_tables):\n",
    "  str_noc = consolidation.TryNextTable(i)\n",
    "  for col_id in range(int(str_noc)):\n",
    "\n",
    "    if col_id == consolidation.cluster_id_col:\n",
    "      continue\n",
    "\n",
    "    message1 = consolidation.ProfileColumn(i, col_id)\n",
    "    print(message1)\n",
    "\n",
    "    skip = input()\n",
    "    if skip != \"1\" and skip != \"2\" and skip != \"3\" and skip != \"4\" and skip != \"5\":\n",
    "      continue\n",
    "\n",
    "    message2 = consolidation.TryNextColumn(i, col_id, skip)\n",
    "    print(message2)\n",
    "\n",
    "    applied_group_num = 0 \n",
    "\n",
    "    var = 1 \n",
    "    while var == 1:\n",
    "      message3 = consolidation.ShowNextCluster()\n",
    "      strs = message3.split('\\t', 2)\n",
    "      max_group_id = int(strs[0])\n",
    "      max_count = int(strs[1])\n",
    "      print(strs[2])\n",
    "      if max_count == 0:\n",
    "        print(\"Done with current column\\n\")\n",
    "        break\n",
    "\n",
    "      choice = input()\n",
    "      if choice == \"4\":\n",
    "        print(\"Done with current column\\n\")\n",
    "        break\n",
    "\n",
    "      message4 = consolidation.ApplyCluster(i, col_id, applied_group_num, max_group_id, choice)\n",
    "      applied_group_num = applied_group_num + 1\n",
    "      print(message4)\n",
    "\n",
    "  consolidation.MaterializeTable(i, outfilepath)\n",
    "  print(\"Successfully Exit!\\n\")\n",
    "  break\n"
   ]
  }
 ],
 "metadata": {
  "kernelspec": {
   "display_name": "Python 3",
   "language": "python",
   "name": "python3"
  }
 },
 "nbformat": 4,
 "nbformat_minor": 2
}
